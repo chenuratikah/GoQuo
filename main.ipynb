{
 "cells": [
  {
   "cell_type": "code",
   "execution_count": 8,
   "metadata": {},
   "outputs": [],
   "source": [
    "from model import Model"
   ]
  },
  {
   "cell_type": "code",
   "execution_count": 11,
   "metadata": {},
   "outputs": [
    {
     "name": "stdout",
     "output_type": "stream",
     "text": [
      "Number of adult(s): 3\n",
      "Number of children: 3\n",
      "Number of infant(s): 3\n"
     ]
    }
   ],
   "source": [
    "#Ask user to input data\n",
    "a = int(input(\"Number of adult(s): \"))\n",
    "c = int(input(\"Number of children: \"))\n",
    "i = int(input(\"Number of infant(s): \"))"
   ]
  },
  {
   "cell_type": "code",
   "execution_count": 12,
   "metadata": {},
   "outputs": [
    {
     "name": "stdout",
     "output_type": "stream",
     "text": [
      "For 3 Adults, 3 Children and 3 infants can be fit in 1 rooms and not 3.\n"
     ]
    }
   ],
   "source": [
    "#Call the method\n",
    "m = Model(a,c,i)\n",
    "print(m.calculateRoom())"
   ]
  }
 ],
 "metadata": {
  "kernelspec": {
   "display_name": "Python 3",
   "language": "python",
   "name": "python3"
  },
  "language_info": {
   "codemirror_mode": {
    "name": "ipython",
    "version": 3
   },
   "file_extension": ".py",
   "mimetype": "text/x-python",
   "name": "python",
   "nbconvert_exporter": "python",
   "pygments_lexer": "ipython3",
   "version": "3.6.8"
  }
 },
 "nbformat": 4,
 "nbformat_minor": 2
}
